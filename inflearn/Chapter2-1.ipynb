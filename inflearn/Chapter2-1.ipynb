{
 "cells": [
  {
   "cell_type": "code",
   "execution_count": 7,
   "id": "a9db1fe9-ece3-4ffa-af9d-09805337cc3a",
   "metadata": {},
   "outputs": [],
   "source": [
    "# chapter02-01 - 인프런\n",
    "# 객체 지향 프로그래밍(OOP) -> 코드의 재사용, 코드 중복 방지"
   ]
  },
  {
   "cell_type": "code",
   "execution_count": 7,
   "id": "2ece1bf1-5c4f-4567-8de9-b281c2064d79",
   "metadata": {},
   "outputs": [],
   "source": [
    "car_company_1 = 'Ferrari'\n",
    "car_detail_1 = [\n",
    "    {'color':'white'},\n",
    "    {'horsepower':400},\n",
    "    {'price':8000}\n",
    "]\n",
    "\n",
    "car_company_2 = 'Bmw'\n",
    "car_detail_2 = [\n",
    "    {'color':'Black'},\n",
    "    {'horsepower':270},\n",
    "    {'price':5000}\n",
    "]\n",
    "\n",
    "car_company_3 = 'Audi'\n",
    "car_detail_3 = [\n",
    "    {'color':'silver'},\n",
    "    {'horsepower':300},\n",
    "    {'price':6000}\n",
    "]\n",
    "\n",
    "# 리스트 구조\n",
    "car_company_list = ['Ferrari', 'Bmw', 'Audi']\n",
    "car_detail_list = [\n",
    "    {'color':'white', 'horsepower':400,'price':8000},\n",
    "    {'color':'Black', 'horsepower':270,'price':5000},\n",
    "    {'color':'silver','horsepower':300,'price':6000}\n",
    "]\n",
    "\n",
    "del car_company_list[1]\n",
    "del car_detail_list[1]\n",
    "\n",
    "print(car_company_list)"
   ]
  },
  {
   "cell_type": "code",
   "execution_count": 9,
   "id": "e7770e91-9320-4a91-872f-2d376141b509",
   "metadata": {},
   "outputs": [
    {
     "name": "stdout",
     "output_type": "stream",
     "text": [
      "[{'car_company': 'Ferrari', 'car_detail': {'color': 'white', 'horsepower': 400, 'price': 8000}}, {'car_company': 'Audi', 'car_detail': {'color': 'silver', 'horsepower': 300, 'price': 6000}}]\n"
     ]
    }
   ],
   "source": [
    "# 딕셔너리 구조\n",
    "# 코드 반복 지속, 중첩 문제(키), 키 조회 예외 처리 등\n",
    "\n",
    "car_dicts = [\n",
    "    {'car_company': 'Ferrari', 'car_detail':{'color':'white', 'horsepower':400,'price':8000}},\n",
    "    {'car_company': 'Bmw', 'car_detail':{'color':'Black', 'horsepower':270,'price':5000}},\n",
    "    {'car_company': 'Audi', 'car_detail':{'color':'silver','horsepower':300,'price':6000}}\n",
    "]\n",
    "\n",
    "del car_dicts[1]\n",
    "print(car_dicts)"
   ]
  },
  {
   "cell_type": "code",
   "execution_count": 13,
   "id": "25c951ce-65a9-444b-b194-daa6e2ee57ec",
   "metadata": {},
   "outputs": [
    {
     "name": "stdout",
     "output_type": "stream",
     "text": [
      "str : Ferrari - {'color': 'white', 'horsepower': 400, 'price': 8000}\n",
      "str : Bmw - {'color': 'Black', 'horsepower': 270, 'price': 5000}\n",
      "str : Audi - {'color': 'silver', 'horsepower': 300, 'price': 6000}\n",
      "{'_company': 'Ferrari', '_details': {'color': 'white', 'horsepower': 400, 'price': 8000}}\n",
      "{'_company': 'Bmw', '_details': {'color': 'Black', 'horsepower': 270, 'price': 5000}}\n",
      "{'_company': 'Audi', '_details': {'color': 'silver', 'horsepower': 300, 'price': 6000}}\n",
      "['__class__', '__delattr__', '__dict__', '__dir__', '__doc__', '__eq__', '__format__', '__ge__', '__getattribute__', '__gt__', '__hash__', '__init__', '__init_subclass__', '__le__', '__lt__', '__module__', '__ne__', '__new__', '__reduce__', '__reduce_ex__', '__repr__', '__setattr__', '__sizeof__', '__str__', '__subclasshook__', '__weakref__', '_company', '_details']\n"
     ]
    }
   ],
   "source": [
    "# 클래스 구조\n",
    "# 구조 설계 후 재사용성 증가, 코드 반복 최소화, 메소드 활용\n",
    "\n",
    "class Car():\n",
    "    def __init__(self, company, details):\n",
    "        self._company = company\n",
    "        self._details = details\n",
    "    \n",
    "    # 인스턴스 메소드\n",
    "    def __str__(self): # 사용자 레벨\n",
    "        return 'str : {} - {}'.format(self._company, self._details)\n",
    "    \n",
    "    def __repr__(self): # 개발자 레벨 어떤걸 사용해도 상관은 없음\n",
    "        return 'repr : {} - {}'.format(self._company, self._details)\n",
    "        \n",
    "car1 = Car('Ferrari', {'color':'white', 'horsepower':400,'price':8000})\n",
    "car2 = Car('Bmw', {'color':'Black', 'horsepower':270,'price':5000})\n",
    "car3 = Car('Audi', {'color':'silver','horsepower':300,'price':6000})\n",
    "\n",
    "print(car1)\n",
    "print(car2)\n",
    "print(car3)\n",
    "\n",
    "print(car1.__dict__)\n",
    "print(car2.__dict__)\n",
    "print(car3.__dict__)\n",
    "\n",
    "print(dir(car1))\n",
    "\n",
    "        "
   ]
  },
  {
   "cell_type": "code",
   "execution_count": 15,
   "id": "04fa7e3d-34e3-4ed7-ac98-315dac3e54c0",
   "metadata": {},
   "outputs": [
    {
     "name": "stdout",
     "output_type": "stream",
     "text": [
      "[repr : Ferrari - {'color': 'white', 'horsepower': 400, 'price': 8000}, repr : Bmw - {'color': 'Black', 'horsepower': 270, 'price': 5000}, repr : Audi - {'color': 'silver', 'horsepower': 300, 'price': 6000}]\n",
      "repr : Ferrari - {'color': 'white', 'horsepower': 400, 'price': 8000}\n",
      "repr : Bmw - {'color': 'Black', 'horsepower': 270, 'price': 5000}\n",
      "repr : Audi - {'color': 'silver', 'horsepower': 300, 'price': 6000}\n"
     ]
    }
   ],
   "source": [
    "# 리스트 선언\n",
    "\n",
    "car_list = []\n",
    "\n",
    "car_list.append(car1)\n",
    "car_list.append(car2)\n",
    "car_list.append(car3)\n",
    "\n",
    "print(car_list)\n",
    "\n",
    "\n",
    "for x in car_list:\n",
    "    print(repr(x))"
   ]
  },
  {
   "cell_type": "code",
   "execution_count": null,
   "id": "bf68233f-0395-4cfb-b262-26ed7d5130dd",
   "metadata": {},
   "outputs": [],
   "source": []
  }
 ],
 "metadata": {
  "kernelspec": {
   "display_name": "Python 3 (ipykernel)",
   "language": "python",
   "name": "python3"
  },
  "language_info": {
   "codemirror_mode": {
    "name": "ipython",
    "version": 3
   },
   "file_extension": ".py",
   "mimetype": "text/x-python",
   "name": "python",
   "nbconvert_exporter": "python",
   "pygments_lexer": "ipython3",
   "version": "3.9.6"
  }
 },
 "nbformat": 4,
 "nbformat_minor": 5
}
