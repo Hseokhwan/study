{
 "cells": [
  {
   "cell_type": "code",
   "execution_count": 4,
   "source": [
    "# chapter02-01\n",
    "# 객체 지향 프로그래밍(OOP) -> 코드의 재사용, 코드 중복 방지, 유지보수, 대형프로젝트\n",
    "# 규모가 큰 프로젝트(프로그램) -> 함수 중심 -> 데이터 방대 -> 복잡\n",
    "# 클래스 중심 -> 데이터 중심 -> 객체로 관리"
   ],
   "outputs": [],
   "metadata": {}
  },
  {
   "cell_type": "code",
   "execution_count": 5,
   "source": [
    "class Car():\n",
    "    \"\"\"\n",
    "    \n",
    "    Car class\n",
    "    Author : Hwang\n",
    "    Date:2022.01.01\n",
    "    \"\"\"\n",
    "    \n",
    "    # 클래스 변수(모든 인스턴스가 공유)\n",
    "    car_count = 0\n",
    "    \n",
    "    def __init__(self, company, details):\n",
    "        self._company = company # 인스턴스 변수\n",
    "        self._details = details\n",
    "        Car.car_count += 1\n",
    "    \n",
    "    # 인스턴스 메소드\n",
    "    def __str__(self): # 사용자 레벨\n",
    "        return 'str : {} - {}'.format(self._company, self._details)\n",
    "    \n",
    "    def __repr__(self): # 개발자 레벨 어떤걸 사용해도 상관은 없음\n",
    "        return 'repr : {} - {}'.format(self._company, self._details)\n",
    "\n",
    "    def __del__(self):\n",
    "        Car.car_count -= 1\n",
    "    \n",
    "    def detail_info(self):\n",
    "        print('Current ID : {}'.format(id(self)))\n",
    "        print('Car Detail Info : {} {}'.format(self._company, self._details.get('price'))) \n",
    "        \n",
    "car1 = Car('Ferrari', {'color':'white', 'horsepower':400,'price':8000})\n",
    "car2 = Car('Bmw', {'color':'Black', 'horsepower':270,'price':5000})\n",
    "car3 = Car('Audi', {'color':'silver','horsepower':300,'price':6000})\n",
    "\n",
    "# ID 확인 - 각각 고유 id 가 있다 -> self의 의미!\n",
    "print(id(car1))\n",
    "print(id(car2))\n",
    "print(id(car3))"
   ],
   "outputs": [
    {
     "output_type": "stream",
     "name": "stdout",
     "text": [
      "140595755134352\n",
      "140595755133056\n",
      "140595755134400\n"
     ]
    }
   ],
   "metadata": {}
  },
  {
   "cell_type": "code",
   "execution_count": 17,
   "source": [
    "print(car1._company == car2._company)\n",
    "print(car1 is car2)\n",
    "\n",
    "# dir & __dict__ 확인\n",
    "\n",
    "print(dir(car1))\n",
    "print(dir(car2))\n",
    "\n",
    "print(car1.__dict__)\n",
    "\n",
    "# Doctring\n",
    "\n",
    "print(Car.__doc__)"
   ],
   "outputs": [
    {
     "output_type": "stream",
     "name": "stdout",
     "text": [
      "False\n",
      "False\n",
      "['__class__', '__del__', '__delattr__', '__dict__', '__dir__', '__doc__', '__eq__', '__format__', '__ge__', '__getattribute__', '__gt__', '__hash__', '__init__', '__init_subclass__', '__le__', '__lt__', '__module__', '__ne__', '__new__', '__reduce__', '__reduce_ex__', '__repr__', '__setattr__', '__sizeof__', '__str__', '__subclasshook__', '__weakref__', '_company', '_details', 'car_count', 'detail_info']\n",
      "['__class__', '__del__', '__delattr__', '__dict__', '__dir__', '__doc__', '__eq__', '__format__', '__ge__', '__getattribute__', '__gt__', '__hash__', '__init__', '__init_subclass__', '__le__', '__lt__', '__module__', '__ne__', '__new__', '__reduce__', '__reduce_ex__', '__repr__', '__setattr__', '__sizeof__', '__str__', '__subclasshook__', '__weakref__', '_company', '_details', 'car_count', 'detail_info']\n",
      "{'_company': 'Ferrari', '_details': {'color': 'white', 'horsepower': 400, 'price': 8000}}\n",
      "\n",
      "    \n",
      "    Car class\n",
      "    Author : Hwang\n",
      "    Date:2022.01.01\n",
      "    \n"
     ]
    }
   ],
   "metadata": {
    "tags": []
   }
  },
  {
   "cell_type": "code",
   "execution_count": 18,
   "source": [
    "car1.detail_info()\n",
    "\n",
    "print(car1.__class__, car2.__class__)\n",
    "print(id(car1.__class__), id(car2.__class__))"
   ],
   "outputs": [
    {
     "output_type": "stream",
     "name": "stdout",
     "text": [
      "Current ID : 140363557943952\n",
      "Car Detail Info : Ferrari 8000\n",
      "<class '__main__.Car'> <class '__main__.Car'>\n",
      "140363465510032 140363465510032\n"
     ]
    }
   ],
   "metadata": {}
  },
  {
   "cell_type": "code",
   "execution_count": 19,
   "source": [
    "car1.detail_info()\n",
    "Car.detail_info(car1)"
   ],
   "outputs": [
    {
     "output_type": "stream",
     "name": "stdout",
     "text": [
      "Current ID : 140363557943952\n",
      "Car Detail Info : Ferrari 8000\n",
      "Current ID : 140363557943952\n",
      "Car Detail Info : Ferrari 8000\n"
     ]
    }
   ],
   "metadata": {}
  },
  {
   "cell_type": "code",
   "execution_count": 3,
   "source": [
    "print(car1.car_count)\n",
    "print(car1.__dict__)\n",
    "print(dir(car1))"
   ],
   "outputs": [
    {
     "output_type": "stream",
     "name": "stdout",
     "text": [
      "3\n",
      "{'_company': 'Ferrari', '_details': {'color': 'white', 'horsepower': 400, 'price': 8000}}\n",
      "['__class__', '__del__', '__delattr__', '__dict__', '__dir__', '__doc__', '__eq__', '__format__', '__ge__', '__getattribute__', '__gt__', '__hash__', '__init__', '__init_subclass__', '__le__', '__lt__', '__module__', '__ne__', '__new__', '__reduce__', '__reduce_ex__', '__repr__', '__setattr__', '__sizeof__', '__str__', '__subclasshook__', '__weakref__', '_company', '_details', 'car_count', 'detail_info']\n"
     ]
    }
   ],
   "metadata": {}
  },
  {
   "cell_type": "code",
   "execution_count": 21,
   "source": [
    "del car2\n",
    "print(car1.car_count)\n",
    "print(Car.car_count)"
   ],
   "outputs": [
    {
     "output_type": "stream",
     "name": "stdout",
     "text": [
      "0\n",
      "0\n"
     ]
    }
   ],
   "metadata": {}
  },
  {
   "cell_type": "code",
   "execution_count": null,
   "source": [
    "# 인스턴스 네임스페이스에 없으면 상위에서 검색\n",
    "# 즉, 동일한 이름으로 변수 생성 가능(인스턴스 검색 후, 상위 클래스 변수 찾음) init --> 클래스 변수"
   ],
   "outputs": [],
   "metadata": {}
  },
  {
   "cell_type": "code",
   "execution_count": null,
   "source": [],
   "outputs": [],
   "metadata": {}
  }
 ],
 "metadata": {
  "kernelspec": {
   "name": "python3",
   "display_name": "Python 3.9.6 64-bit"
  },
  "language_info": {
   "codemirror_mode": {
    "name": "ipython",
    "version": 3
   },
   "file_extension": ".py",
   "mimetype": "text/x-python",
   "name": "python",
   "nbconvert_exporter": "python",
   "pygments_lexer": "ipython3",
   "version": "3.9.6"
  },
  "interpreter": {
   "hash": "aee8b7b246df8f9039afb4144a1f6fd8d2ca17a180786b69acc140d282b71a49"
  }
 },
 "nbformat": 4,
 "nbformat_minor": 5
}