{
 "cells": [
  {
   "cell_type": "code",
   "execution_count": 1,
   "id": "3380622b-e70a-48bf-82b7-758a324c5b0a",
   "metadata": {},
   "outputs": [],
   "source": [
    "# chapter02-03\n",
    "# 객체 지향 프로그래밍(OOP) -> 코드의 재사용, 코드 중복 방지, 유지보수, 대형프로젝트\n",
    "# 규모가 큰 프로젝트(프로그램) -> 함수 중심 -> 데이터 방대 -> 복잡\n",
    "# 클래스 중심 -> 데이터 중심 -> 객체로 관리"
   ]
  },
  {
   "cell_type": "code",
   "execution_count": 28,
   "id": "2b7a9bb6-928e-4db1-b1ff-77e9c27f328d",
   "metadata": {},
   "outputs": [],
   "source": [
    "class Car():\n",
    "    \"\"\"\n",
    "    \n",
    "    Car class\n",
    "    Author : Hwang\n",
    "    Date:2022.01.01\n",
    "    Description : Class, Static, Instance method\n",
    "    \"\"\"\n",
    "    \n",
    "    # 클래스 변수(모든 인스턴스가 공유)\n",
    "    price_per_raise = 1.0\n",
    "    \n",
    "    def __init__(self, company, details):\n",
    "        self._company = company # 인스턴스 변수\n",
    "        self._details = details\n",
    "    \n",
    "    # 인스턴스 메소드\n",
    "    def __str__(self): # 사용자 레벨\n",
    "        return 'str : {} - {}'.format(self._company, self._details)\n",
    "    \n",
    "    def __repr__(self): # 개발자 레벨 어떤걸 사용해도 상관은 없음\n",
    "        return 'repr : {} - {}'.format(self._company, self._details)\n",
    "    \n",
    "    # Instance Method\n",
    "    # self : 객체의 고유한 속성 값을 사용\n",
    "    def detail_info(self):\n",
    "        print('Current ID : {}'.format(id(self)))\n",
    "        print('Car Detail Info : {} {}'.format(self._company, self._details.get('price'))) \n",
    "        \n",
    "    def get_price(self):\n",
    "        return 'Before Car price -> company : {}, price : {}'.format(self._company, self._details.get('price'))\n",
    "    \n",
    "    def get_price_culc(self):\n",
    "        return 'After Car price -> company : {}, price : {}'.format(self._company, self._details.get('price') * Car.price_per_raise)\n",
    "    \n",
    "    # Class Method\n",
    "    @classmethod\n",
    "    def raise_price(cls, per):\n",
    "        if per <= 1: \n",
    "            print('Please Enter 1 Or More')\n",
    "            return\n",
    "        cls.price_per_raise = per\n",
    "        print('Succeed! price increased')\n",
    "        \n",
    "    # Static Method\n",
    "    @staticmethod\n",
    "    def is_bmw(inst):\n",
    "        if inst._company == 'Bmw':\n",
    "            return 'OK! This car is {}'.format(inst._company)\n",
    "        return 'Sorry. This car is not Bmw'\n",
    "        \n",
    "car1 = Car('Ferrari', {'color':'white', 'horsepower':400,'price':8000})\n",
    "car2 = Car('Bmw', {'color':'Black', 'horsepower':270,'price':5000})\n"
   ]
  },
  {
   "cell_type": "code",
   "execution_count": 29,
   "id": "7582341c-8bb9-4730-8973-8ee1552d935d",
   "metadata": {},
   "outputs": [
    {
     "name": "stdout",
     "output_type": "stream",
     "text": [
      "Current ID : 140492180305616\n",
      "Car Detail Info : Ferrari 8000\n",
      "8000\n",
      "8000\n"
     ]
    }
   ],
   "source": [
    "# 전체 정보\n",
    "car1.detail_info()\n",
    "\n",
    "# 가격 정보\n",
    "print(car1._details.get('price'))\n",
    "print(car1._details['price'])"
   ]
  },
  {
   "cell_type": "code",
   "execution_count": 30,
   "id": "8811590a-6784-40b9-a00c-96808db67bb5",
   "metadata": {},
   "outputs": [
    {
     "name": "stdout",
     "output_type": "stream",
     "text": [
      "Before Car price -> company : Ferrari, price : 8000\n",
      "After Car price -> company : Ferrari, price : 11200.0\n"
     ]
    }
   ],
   "source": [
    "# 가격정보(인상전)\n",
    "print(car1.get_price())\n",
    "\n",
    "# 가격정보(인상후)\n",
    "Car.price_per_raise = 1.4\n",
    "\n",
    "print(car1.get_price_culc())"
   ]
  },
  {
   "cell_type": "code",
   "execution_count": 27,
   "id": "eae8a40c-2058-4ed0-a07b-eed06c5e3890",
   "metadata": {},
   "outputs": [
    {
     "name": "stdout",
     "output_type": "stream",
     "text": [
      "Succeed! price increased\n",
      "After Car price -> company : Ferrari, price : 12800.0\n"
     ]
    }
   ],
   "source": [
    "# 클래스 메소드 사용\n",
    "Car.raise_price(1.6)\n",
    "print(car1.get_price_culc())"
   ]
  },
  {
   "cell_type": "code",
   "execution_count": 35,
   "id": "0f354785-0bcd-407f-a0b3-e4be4f57bdf2",
   "metadata": {},
   "outputs": [
    {
     "name": "stdout",
     "output_type": "stream",
     "text": [
      "Sorry. This car is not Bmw\n",
      "OK! This car is Bmw\n",
      "Sorry. This car is not Bmw\n",
      "OK! This car is Bmw\n"
     ]
    }
   ],
   "source": [
    "# 스테이틱 메소드\n",
    "# 인스턴스로 호출\n",
    "print(car1.is_bmw(car1))\n",
    "print(car2.is_bmw(car2))\n",
    "# 클래스로 호출\n",
    "print(Car.is_bmw(car1))\n",
    "print(Car.is_bmw(car2))"
   ]
  },
  {
   "cell_type": "code",
   "execution_count": null,
   "id": "97ad400c-5456-49ec-a11c-88b45d7015f9",
   "metadata": {},
   "outputs": [],
   "source": []
  }
 ],
 "metadata": {
  "kernelspec": {
   "display_name": "Python 3 (ipykernel)",
   "language": "python",
   "name": "python3"
  },
  "language_info": {
   "codemirror_mode": {
    "name": "ipython",
    "version": 3
   },
   "file_extension": ".py",
   "mimetype": "text/x-python",
   "name": "python",
   "nbconvert_exporter": "python",
   "pygments_lexer": "ipython3",
   "version": "3.9.6"
  }
 },
 "nbformat": 4,
 "nbformat_minor": 5
}
