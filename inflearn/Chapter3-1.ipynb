{
 "cells": [
  {
   "cell_type": "code",
   "execution_count": 1,
   "id": "7ba537e5-5f50-4cb7-bc45-bef2954bcfaf",
   "metadata": {},
   "outputs": [],
   "source": [
    "# Special Method(=Magic Method)\n",
    "# 파이썬의 핵심 4가지 -> 시퀀스(Sequence), 반복(Iterator), 함수(Functions), class   \n",
    "# 클래스(스페셜메소드) -> 시퀀스 -> 반복&함수 로 연결\n",
    "# 스페셜 메소드 = 클래스안에 정의할 수 있는 특별한(Built-in) 메소드 ex. __str__ / __del__ ...\n",
    "# 이미 만들어져 있는 클래스 메소드를 수정, 변경하는 것"
   ]
  },
  {
   "cell_type": "code",
   "execution_count": 2,
   "id": "d41ba865-a16c-43dd-987c-c19077d6152f",
   "metadata": {},
   "outputs": [
    {
     "name": "stdout",
     "output_type": "stream",
     "text": [
      "<class 'int'>\n"
     ]
    }
   ],
   "source": [
    "# 기본형\n",
    "print(int)\n",
    "print(float)"
   ]
  },
  {
   "cell_type": "code",
   "execution_count": 4,
   "id": "091d1fbb-13ae-4537-a6ba-9aa74af7c33e",
   "metadata": {},
   "outputs": [
    {
     "name": "stdout",
     "output_type": "stream",
     "text": [
      "['__abs__', '__add__', '__and__', '__bool__', '__ceil__', '__class__', '__delattr__', '__dir__', '__divmod__', '__doc__', '__eq__', '__float__', '__floor__', '__floordiv__', '__format__', '__ge__', '__getattribute__', '__getnewargs__', '__gt__', '__hash__', '__index__', '__init__', '__init_subclass__', '__int__', '__invert__', '__le__', '__lshift__', '__lt__', '__mod__', '__mul__', '__ne__', '__neg__', '__new__', '__or__', '__pos__', '__pow__', '__radd__', '__rand__', '__rdivmod__', '__reduce__', '__reduce_ex__', '__repr__', '__rfloordiv__', '__rlshift__', '__rmod__', '__rmul__', '__ror__', '__round__', '__rpow__', '__rrshift__', '__rshift__', '__rsub__', '__rtruediv__', '__rxor__', '__setattr__', '__sizeof__', '__str__', '__sub__', '__subclasshook__', '__truediv__', '__trunc__', '__xor__', 'as_integer_ratio', 'bit_length', 'conjugate', 'denominator', 'from_bytes', 'imag', 'numerator', 'real', 'to_bytes']\n",
      "['__abs__', '__add__', '__bool__', '__ceil__', '__class__', '__delattr__', '__dir__', '__divmod__', '__doc__', '__eq__', '__float__', '__floor__', '__floordiv__', '__format__', '__ge__', '__getattribute__', '__getformat__', '__getnewargs__', '__gt__', '__hash__', '__init__', '__init_subclass__', '__int__', '__le__', '__lt__', '__mod__', '__mul__', '__ne__', '__neg__', '__new__', '__pos__', '__pow__', '__radd__', '__rdivmod__', '__reduce__', '__reduce_ex__', '__repr__', '__rfloordiv__', '__rmod__', '__rmul__', '__round__', '__rpow__', '__rsub__', '__rtruediv__', '__set_format__', '__setattr__', '__sizeof__', '__str__', '__sub__', '__subclasshook__', '__truediv__', '__trunc__', 'as_integer_ratio', 'conjugate', 'fromhex', 'hex', 'imag', 'is_integer', 'real']\n"
     ]
    }
   ],
   "source": [
    "#모든 속성 및 메소드 출력\n",
    "print(dir(int))\n",
    "print(dir(float))"
   ]
  },
  {
   "cell_type": "code",
   "execution_count": 11,
   "id": "8c4d7b76-1174-416e-b56e-82c49a621b11",
   "metadata": {},
   "outputs": [
    {
     "name": "stdout",
     "output_type": "stream",
     "text": [
      "110\n",
      "110\n",
      "int([x]) -> integer\n",
      "int(x, base=10) -> integer\n",
      "\n",
      "Convert a number or string to an integer, or return 0 if no arguments\n",
      "are given.  If x is a number, return x.__int__().  For floating point\n",
      "numbers, this truncates towards zero.\n",
      "\n",
      "If x is not a number or if base is given, then x must be a string,\n",
      "bytes, or bytearray instance representing an integer literal in the\n",
      "given base.  The literal can be preceded by '+' or '-' and be surrounded\n",
      "by whitespace.  The base defaults to 10.  Valid bases are 0 and 2-36.\n",
      "Base 0 means to interpret the base from the string as an integer literal.\n",
      ">>> int('0b100', base=0)\n",
      "4\n",
      "True True\n",
      "1000 1000\n"
     ]
    }
   ],
   "source": [
    "n = 10\n",
    "\n",
    "print(n+100)\n",
    "print(n.__add__(100))\n",
    "print(n.__doc__)\n",
    "print(n.__bool__(), bool(n))\n",
    "print(n * 100, n.__mul__(100))\n",
    "# 내부적으로 호출되는 메소드를 직접 호출할 수 있고 직접 수정 가능"
   ]
  },
  {
   "cell_type": "code",
   "execution_count": 25,
   "id": "a0c1175c-62a6-44d6-b9ca-d4b58cf25afe",
   "metadata": {},
   "outputs": [],
   "source": [
    "# 클래스 에제1\n",
    "class Fruit:\n",
    "    def __init__(self, name, price):\n",
    "        self._name = name\n",
    "        self._price = price\n",
    "        \n",
    "    def __str__(self):\n",
    "        return 'Fruit Class Info : {}, {}'.format(self._name, self._price)\n",
    "\n",
    "    # 메소드를 불러올때 자동으로 첫번째는 self로 두번째부터는 x로 인식\n",
    "    def __add__(self, x):\n",
    "        print('called __add__')\n",
    "        return self._price + x._price\n",
    "    \n",
    "    def __sub__(self, x):\n",
    "        return self._price - x._price\n",
    "    \n",
    "    def __le__(self, x):\n",
    "        if self._price <= x._price:\n",
    "            return True\n",
    "        else:\n",
    "            return False\n",
    "        \n",
    "    def __ge__(self, x):\n",
    "        if self._price >= x._price:\n",
    "            return True\n",
    "        else:\n",
    "            return False"
   ]
  },
  {
   "cell_type": "code",
   "execution_count": 26,
   "id": "56ae968b-74b2-4444-b9fc-ee3ae33c09a8",
   "metadata": {},
   "outputs": [
    {
     "name": "stdout",
     "output_type": "stream",
     "text": [
      "called __add__\n",
      "10500\n",
      "10500\n"
     ]
    }
   ],
   "source": [
    "# 인스턴스 생성\n",
    "s1 = Fruit('Orange', 7500)\n",
    "s2 = Fruit('Banana', 3000)\n",
    "\n",
    "print(s1 + s2)\n",
    "print(s1._price + s2._price)"
   ]
  },
  {
   "cell_type": "code",
   "execution_count": 32,
   "id": "e9cad624-ea2a-4065-8358-bd3bdbf3a314",
   "metadata": {},
   "outputs": [
    {
     "name": "stdout",
     "output_type": "stream",
     "text": [
      "True\n",
      "False\n",
      "4500\n",
      "-4500\n",
      "Fruit Class Info : Orange, 7500\n",
      "Fruit Class Info : Banana, 3000\n"
     ]
    }
   ],
   "source": [
    "# 매직메소드\n",
    "print(s1 >= s2)\n",
    "print(s1 <= s2)\n",
    "print(s1 - s2)\n",
    "print(s2 - s1)\n",
    "print(s1)\n",
    "print(s2)"
   ]
  },
  {
   "cell_type": "code",
   "execution_count": null,
   "id": "15a9b7f1-ce21-4044-af4f-ab40c4cb7ef3",
   "metadata": {},
   "outputs": [],
   "source": []
  }
 ],
 "metadata": {
  "kernelspec": {
   "display_name": "Python 3 (ipykernel)",
   "language": "python",
   "name": "python3"
  },
  "language_info": {
   "codemirror_mode": {
    "name": "ipython",
    "version": 3
   },
   "file_extension": ".py",
   "mimetype": "text/x-python",
   "name": "python",
   "nbconvert_exporter": "python",
   "pygments_lexer": "ipython3",
   "version": "3.9.6"
  }
 },
 "nbformat": 4,
 "nbformat_minor": 5
}
