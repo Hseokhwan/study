{
 "cells": [
  {
   "cell_type": "code",
   "execution_count": 1,
   "id": "5cad5f89-9f71-4bb3-a470-9149d0bb4c89",
   "metadata": {},
   "outputs": [],
   "source": [
    "# Special Method(=Magic Method)\n",
    "# 파이썬의 핵심 4가지 -> 시퀀스(Sequence), 반복(Iterator), 함수(Functions), class   \n",
    "# 클래스(스페셜메소드) -> 시퀀스 -> 반복&함수 로 연결\n",
    "# 스페셜 메소드 = 클래스안에 정의할 수 있는 특별한(Built-in) 메소드 ex. __str__ / __del__ ...\n",
    "# 이미 만들어져 있는 클래스 메소드를 수정, 변경하는 것"
   ]
  },
  {
   "cell_type": "code",
   "execution_count": 10,
   "id": "087eb201-68b0-408d-9b5c-ee373e603f5d",
   "metadata": {},
   "outputs": [
    {
     "name": "stdout",
     "output_type": "stream",
     "text": [
      "\n",
      "        \n",
      "        Create a vector, example : v = Vector(5, 10)\n",
      "        \n"
     ]
    }
   ],
   "source": [
    "# 클래스 예제2\n",
    "# 벡터(x,y) (5,2) = 좌표평면에서 크기와 방향, 속도를 갖는 것\n",
    "# 좌표평면 상에서 연산\n",
    "\n",
    "class Vector(object):\n",
    "    def __init__(self, *arg):\n",
    "        '''\n",
    "        \n",
    "        Create a vector, example : v = Vector(5, 10)\n",
    "        '''\n",
    "        # 예외처리\n",
    "        if len(arg) == 0:\n",
    "            self._x, self._y = 0, 0\n",
    "        else:\n",
    "            self._x, self._y = arg\n",
    "            \n",
    "    def __repr__(self):\n",
    "        '''Return the vector informations.'''\n",
    "        return 'Vector(%r, %r)' % (self._x, self._y)\n",
    "    \n",
    "    def __add__(self, other):\n",
    "        '''Return the vector addtion of self and other'''\n",
    "        return Vector(self._x + other._x, self._y + other._y)\n",
    "    \n",
    "    def __mul__(self, y):\n",
    "        return Vector(self._x * y, self._y * y)\n",
    "    \n",
    "    # (0,0) 인지 확인하는 메소드\n",
    "    def __bool__(self):\n",
    "        return bool(max(self._x, self._y))\n",
    "        \n",
    "print(Vector.__init__.__doc__)"
   ]
  },
  {
   "cell_type": "code",
   "execution_count": 11,
   "id": "d1f3838b-cddd-4327-b561-e51d3b24f8be",
   "metadata": {},
   "outputs": [],
   "source": [
    "# Vector 인스턴스 생성\n",
    "v1 = Vector(5,7)\n",
    "v2 = Vector(23,55)\n",
    "v3 = Vector()"
   ]
  },
  {
   "cell_type": "code",
   "execution_count": 20,
   "id": "ca35c1d2-b275-4651-adee-8eff63a7da43",
   "metadata": {},
   "outputs": [
    {
     "name": "stdout",
     "output_type": "stream",
     "text": [
      "\n",
      "        \n",
      "        Create a vector, example : v = Vector(5, 10)\n",
      "        \n",
      "Return the vector informations.\n",
      "Return the vector addtion of self and other\n",
      "Vector(5, 7) Vector(23, 55) Vector(0, 0)\n",
      "Vector(28, 62)\n",
      "Vector(15, 21)\n",
      "Vector(230, 550)\n",
      "True True\n",
      "False\n"
     ]
    }
   ],
   "source": [
    "# 매직메소드 출력\n",
    "print(Vector.__init__.__doc__)\n",
    "print(Vector.__repr__.__doc__)\n",
    "print(Vector.__add__.__doc__)\n",
    "\n",
    "print(v1, v2, v3)\n",
    "print(v1 + v2)\n",
    "print(v1 * 3)\n",
    "print(v2 * 10)\n",
    "print(bool(v1), bool(v2))\n",
    "print(bool(v3))"
   ]
  },
  {
   "cell_type": "code",
   "execution_count": null,
   "id": "f698451e-0f8a-4b95-9a47-21a3b7748d2e",
   "metadata": {},
   "outputs": [],
   "source": []
  }
 ],
 "metadata": {
  "kernelspec": {
   "display_name": "Python 3 (ipykernel)",
   "language": "python",
   "name": "python3"
  },
  "language_info": {
   "codemirror_mode": {
    "name": "ipython",
    "version": 3
   },
   "file_extension": ".py",
   "mimetype": "text/x-python",
   "name": "python",
   "nbconvert_exporter": "python",
   "pygments_lexer": "ipython3",
   "version": "3.9.6"
  }
 },
 "nbformat": 4,
 "nbformat_minor": 5
}
