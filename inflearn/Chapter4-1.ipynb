{
 "cells": [
  {
   "cell_type": "code",
   "execution_count": 1,
   "id": "b644d4ad-ce11-42eb-9ef0-4365702a9a09",
   "metadata": {},
   "outputs": [],
   "source": [
    "# 시퀀스 : 번호가 입력되어서 나열된 순서\n",
    "# 시퀀스형 / 비시퀀스형\n",
    "# 파이썬은 자료형을 2가지로 나눔\n",
    "# 컨테이너(container : 서로 다른 자료형[list tuple, collections.deque])\n",
    "# 플랫(Flat : 한개의 자료형[str, bytes, bytearray, array.array, memoryview])\n",
    "# 가변(list, bytearray, array.array, memoryview, deque) \n",
    "# 불변(tuple, str, bytes)\n",
    "# 리스트 및 튜플 고급"
   ]
  },
  {
   "cell_type": "code",
   "execution_count": 5,
   "id": "20361441-a3e9-4df8-aaa4-867bb1561dda",
   "metadata": {},
   "outputs": [
    {
     "name": "stdout",
     "output_type": "stream",
     "text": [
      "[43, 95, 41, 40, 38, 42, 40, 94, 64, 35, 36]\n",
      "[43, 95, 41, 40, 38, 42, 40, 94, 64, 35, 36]\n"
     ]
    }
   ],
   "source": [
    "# 지능형 리스트(comprehending lists)\n",
    "chars = '+_)(&*(^@#$'\n",
    "code_list1 = []\n",
    "\n",
    "for s in chars:\n",
    "    # 유니코드 리스트\n",
    "    code_list1.append(ord(s))\n",
    "    \n",
    "print(code_list1)\n",
    "\n",
    "# 지능형 리스트(comprehending lists)\n",
    "code_list2 = [ord(s) for s in chars]\n",
    "print(code_list2) "
   ]
  },
  {
   "cell_type": "code",
   "execution_count": null,
   "id": "d5f9ecac-b22b-4940-a1e5-1f911d71fdf3",
   "metadata": {},
   "outputs": [
    {
     "name": "stdout",
     "output_type": "stream",
     "text": [
      "[43, 95, 41, 42, 94, 64]\n",
      "[43, 95, 41, 42, 94, 64]\n"
     ]
    }
   ],
   "source": [
    "# Comprehending lists + Map, Filter\n",
    "code_list3 = [ord(s) for s in chars if ord(s) > 40]\n",
    "print(code_list3)\n",
    "\n",
    "code_list4 = list(filter(lambda x : x > 40, map(ord, chars)))\n",
    "print(code_list4)"
   ]
  },
  {
   "cell_type": "code",
   "execution_count": 11,
   "id": "d0af0649-d999-443b-bb6b-6de9cc7e4829",
   "metadata": {},
   "outputs": [
    {
     "name": "stdout",
     "output_type": "stream",
     "text": [
      "[43, 95, 41, 40, 38, 42, 40, 94, 64, 35, 36]\n",
      "[43, 95, 41, 40, 38, 42, 40, 94, 64, 35, 36]\n",
      "[43, 95, 41, 42, 94, 64]\n",
      "[43, 95, 41, 42, 94, 64]\n",
      "['+', '_', ')', '(', '&', '*', '(', '^', '@', '#', '$']\n",
      "['+', '_', ')', '(', '&', '*', '(', '^', '@', '#', '$']\n",
      "['+', '_', ')', '*', '^', '@']\n",
      "['+', '_', ')', '*', '^', '@']\n"
     ]
    }
   ],
   "source": [
    "# 전체 출력\n",
    "print(code_list1)\n",
    "print(code_list2)\n",
    "print(code_list3)\n",
    "print(code_list4)\n",
    "print([chr(s) for s in code_list1])\n",
    "print([chr(s) for s in code_list2])\n",
    "print([chr(s) for s in code_list3])\n",
    "print([chr(s) for s in code_list4])"
   ]
  },
  {
   "cell_type": "code",
   "execution_count": 18,
   "id": "9c364c8c-729b-4958-baff-7e96976b29e9",
   "metadata": {},
   "outputs": [
    {
     "name": "stdout",
     "output_type": "stream",
     "text": [
      "<generator object <genexpr> at 0x7faab93114a0>\n",
      "<class 'generator'>\n",
      "43\n",
      "95\n",
      "array('I', [43, 95, 41, 40, 38, 42, 40, 94, 64, 35, 36])\n",
      "<class 'array.array'>\n",
      "[43, 95, 41, 40, 38, 42, 40, 94, 64, 35, 36]\n"
     ]
    }
   ],
   "source": [
    "# Generator 생성 / dir에 __iter__가 들어가있으면 for문 순회 가능\n",
    "import array\n",
    "\n",
    "# Generator : 한 번에 한 개의 항목을 생성(메모리 유지 X)\n",
    "tuple_g = (ord(s) for s in chars)\n",
    "array_g = array.array('I', (ord(s) for s in chars))\n",
    "\n",
    "print(tuple_g)\n",
    "print(type(tuple_g))\n",
    "print(next(tuple_g))\n",
    "print(next(tuple_g))\n",
    "\n",
    "print(array_g)\n",
    "print(type(array_g))\n",
    "print(array_g.tolist())"
   ]
  },
  {
   "cell_type": "code",
   "execution_count": 22,
   "id": "1927c1a9-c1f5-47d5-aec9-4e01daf70a16",
   "metadata": {},
   "outputs": [
    {
     "name": "stdout",
     "output_type": "stream",
     "text": [
      "<generator object <genexpr> at 0x7faab9311890>\n"
     ]
    }
   ],
   "source": [
    "# 제네레이터 예제\n",
    "print(('%s' % c + str(n) for c in ['A','B','C','D'] for n in range(1,21)))\n",
    "\n",
    "#for s in ('%s' % c + str(n) for c in ['A','B','C','D'] for n in range(1,21)):\n",
    "#    print(s)"
   ]
  },
  {
   "cell_type": "code",
   "execution_count": 34,
   "id": "5b3f9aee-25c1-4060-8f06-dfcebc5bc536",
   "metadata": {},
   "outputs": [
    {
     "name": "stdout",
     "output_type": "stream",
     "text": [
      "[['~', '~', '~'], ['~', '~', '~'], ['~', '~', '~'], ['~', '~', '~']]\n",
      "[['~', '~', '~'], ['~', '~', '~'], ['~', '~', '~'], ['~', '~', '~']]\n",
      "[['~', 'X', '~'], ['~', '~', '~'], ['~', '~', '~'], ['~', '~', '~']]\n",
      "[['~', 'X', '~'], ['~', 'X', '~'], ['~', 'X', '~'], ['~', 'X', '~']]\n",
      "[140371225344768, 140371225344768, 140371225344768, 140371225344768]\n",
      "[140371224507712, 140371224507712, 140371224507712, 140371224507712]\n"
     ]
    }
   ],
   "source": [
    "# 리스트 주의\n",
    "mark1 = [['~'] * 3 for n in range(4)]\n",
    "mark2 = [['~'] * 3] * 4 \n",
    "\n",
    "print(mark1)\n",
    "print(mark2)\n",
    "\n",
    "# 수정\n",
    "mark1[0][1] = 'X'\n",
    "mark2[0][1] = 'X'\n",
    "\n",
    "print(mark1)\n",
    "print(mark2)\n",
    "\n",
    "print([id(mark1) for n in mark1])\n",
    "print([id(mark2) for n in mark2])"
   ]
  },
  {
   "cell_type": "code",
   "execution_count": null,
   "id": "05410ec3-44c1-4b89-81cb-a01baed0e60c",
   "metadata": {},
   "outputs": [],
   "source": []
  }
 ],
 "metadata": {
  "kernelspec": {
   "display_name": "Python 3 (ipykernel)",
   "language": "python",
   "name": "python3"
  },
  "language_info": {
   "codemirror_mode": {
    "name": "ipython",
    "version": 3
   },
   "file_extension": ".py",
   "mimetype": "text/x-python",
   "name": "python",
   "nbconvert_exporter": "python",
   "pygments_lexer": "ipython3",
   "version": "3.9.6"
  }
 },
 "nbformat": 4,
 "nbformat_minor": 5
}
