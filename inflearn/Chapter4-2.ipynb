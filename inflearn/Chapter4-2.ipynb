{
 "cells": [
  {
   "cell_type": "code",
   "execution_count": 2,
   "id": "f4d53aab-b69f-4ee4-b88b-47bdab0fc397",
   "metadata": {},
   "outputs": [],
   "source": [
    "# 시퀀스 : 번호가 입력되어서 나열된 순서\n",
    "# 시퀀스형 / 비시퀀스형\n",
    "# 파이썬은 자료형을 2가지로 나눔\n",
    "# 컨테이너(container : 서로 다른 자료형[list tuple, collections.deque])\n",
    "# 플랫(Flat : 한개의 자료형[str, bytes, bytearray, array.array, memoryview])\n",
    "# 가변(list, bytearray, array.array, memoryview, deque) \n",
    "# 불변(tuple, str, bytes)\n",
    "# 리스트 및 튜플 고급"
   ]
  },
  {
   "cell_type": "code",
   "execution_count": 5,
   "id": "398a96b5-9184-4052-ac3f-c597b2504654",
   "metadata": {},
   "outputs": [
    {
     "name": "stdout",
     "output_type": "stream",
     "text": [
      "(11, 1)\n",
      "(11, 1)\n",
      "11 1\n"
     ]
    }
   ],
   "source": [
    "# Tuple Advanced\n",
    "# Unpacking\n",
    "\n",
    "# b, a = a, b\n",
    "\n",
    "print(divmod(100, 9))\n",
    "print(divmod(*(100, 9)))\n",
    "print(*(divmod(100, 9)))"
   ]
  },
  {
   "cell_type": "code",
   "execution_count": 9,
   "id": "fee20aee-3d53-4631-96ab-6289eb8e7ab1",
   "metadata": {},
   "outputs": [
    {
     "name": "stdout",
     "output_type": "stream",
     "text": [
      "0 1 [2, 3, 4, 5, 6, 7, 8, 9]\n",
      "0 1 []\n",
      "1 2 [3, 4, 5]\n"
     ]
    }
   ],
   "source": [
    "x, y, *rest = range(10)\n",
    "print(x, y, rest)\n",
    "x, y, *rest = range(2)\n",
    "print(x, y, rest)\n",
    "x, y, *rest = 1, 2, 3, 4, 5\n",
    "print(x, y, rest)"
   ]
  },
  {
   "cell_type": "code",
   "execution_count": 15,
   "id": "3c59b1f9-6450-42df-9277-7f344665e200",
   "metadata": {},
   "outputs": [
    {
     "name": "stdout",
     "output_type": "stream",
     "text": [
      "(15, 20, 25) 140634440738304\n",
      "[15, 20, 25] 140634434942528\n",
      "(15, 20, 25, 15, 20, 25) 140634452019424\n",
      "[15, 20, 25, 15, 20, 25] 140634436767936\n",
      "(15, 20, 25, 15, 20, 25, 15, 20, 25, 15, 20, 25) 140634434831984\n",
      "[15, 20, 25, 15, 20, 25, 15, 20, 25, 15, 20, 25] 140634436767936\n"
     ]
    }
   ],
   "source": [
    "# Mutable(가변) vs Immutable(불변)\n",
    "\n",
    "l = (15, 20, 25)\n",
    "m = [15, 20, 25]\n",
    "\n",
    "print(l, id(l))\n",
    "print(m, id(m))\n",
    "\n",
    "l = l * 2\n",
    "m = m * 2\n",
    "print(l, id(l))\n",
    "print(m, id(m))\n",
    "\n",
    "l *= 2\n",
    "m *= 2\n",
    "print(l, id(l))\n",
    "print(m, id(m))"
   ]
  },
  {
   "cell_type": "code",
   "execution_count": 25,
   "id": "b3019c76-d445-4e25-9dd8-54b1b5069fe5",
   "metadata": {},
   "outputs": [
    {
     "name": "stdout",
     "output_type": "stream",
     "text": [
      "sorted - ['apple', 'lemon', 'mango', 'orange']\n",
      "sorted - ['orange', 'mango', 'lemon', 'apple']\n",
      "sorted - ['apple', 'mango', 'lemon', 'orange']\n",
      "sorted - ['orange', 'apple', 'lemon', 'mango']\n",
      "sorted - ['mango', 'lemon', 'orange', 'apple']\n",
      "['orange', 'apple', 'mango', 'lemon']\n",
      "sort - None ['apple', 'lemon', 'mango', 'orange']\n",
      "sort - None ['orange', 'mango', 'lemon', 'apple']\n",
      "sort - None ['mango', 'lemon', 'apple', 'orange']\n",
      "sort - None ['apple', 'orange', 'lemon', 'mango']\n",
      "sort - None ['mango', 'lemon', 'apple', 'orange']\n",
      "['mango', 'lemon', 'apple', 'orange']\n"
     ]
    }
   ],
   "source": [
    "# sort vs sorted\n",
    "# reverse, key=len, key=str.lower, key=func...\n",
    "\n",
    "# sorted : 정렬 후 새로운 객체 반환 (원본 수정 X)\n",
    "f_list = ['orange', 'apple', 'mango', 'lemon']\n",
    "print('sorted -', sorted(f_list))\n",
    "print('sorted -', sorted(f_list, reverse=True))\n",
    "print('sorted -', sorted(f_list, key=len))\n",
    "print('sorted -', sorted(f_list, key=lambda x: x[-1]))\n",
    "print('sorted -', sorted(f_list, key=lambda x: x[-1], reverse=True))\n",
    "\n",
    "print(f_list)\n",
    "\n",
    "# sort : 정렬 후 객체 직접 변경 (원본 수정 O)\n",
    "\n",
    "print('sort -', f_list.sort(), f_list)\n",
    "print('sort -', f_list.sort(reverse=True), f_list)\n",
    "print('sort -', f_list.sort(key=len), f_list)\n",
    "print('sort -', f_list.sort(key=lambda x: x[-1]), f_list)\n",
    "print('sort -', f_list.sort(key=lambda x: x[-1], reverse=True), f_list)\n",
    "\n",
    "print(f_list)\n",
    "# list vs array 적합한 사용법\n",
    "# 리스트 기반 : 융통성, 다양한 자료형, 범용적\n",
    "# 숫자 기반 : 배열(리스트와 거의 호환)"
   ]
  },
  {
   "cell_type": "code",
   "execution_count": null,
   "id": "dd33265d-5ffa-47f8-8b77-900c57d279a3",
   "metadata": {},
   "outputs": [],
   "source": []
  }
 ],
 "metadata": {
  "kernelspec": {
   "display_name": "Python 3 (ipykernel)",
   "language": "python",
   "name": "python3"
  },
  "language_info": {
   "codemirror_mode": {
    "name": "ipython",
    "version": 3
   },
   "file_extension": ".py",
   "mimetype": "text/x-python",
   "name": "python",
   "nbconvert_exporter": "python",
   "pygments_lexer": "ipython3",
   "version": "3.9.6"
  }
 },
 "nbformat": 4,
 "nbformat_minor": 5
}
